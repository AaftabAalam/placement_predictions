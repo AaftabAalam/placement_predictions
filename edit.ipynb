{
 "cells": [
  {
   "cell_type": "code",
   "execution_count": 96,
   "metadata": {},
   "outputs": [],
   "source": [
    "import numpy as np"
   ]
  },
  {
   "cell_type": "code",
   "execution_count": 97,
   "metadata": {},
   "outputs": [],
   "source": [
    "import pandas as pd"
   ]
  },
  {
   "cell_type": "code",
   "execution_count": 98,
   "metadata": {},
   "outputs": [
    {
     "data": {
      "text/html": [
       "<div>\n",
       "<style scoped>\n",
       "    .dataframe tbody tr th:only-of-type {\n",
       "        vertical-align: middle;\n",
       "    }\n",
       "\n",
       "    .dataframe tbody tr th {\n",
       "        vertical-align: top;\n",
       "    }\n",
       "\n",
       "    .dataframe thead th {\n",
       "        text-align: right;\n",
       "    }\n",
       "</style>\n",
       "<table border=\"1\" class=\"dataframe\">\n",
       "  <thead>\n",
       "    <tr style=\"text-align: right;\">\n",
       "      <th></th>\n",
       "      <th>cgpa</th>\n",
       "      <th>iq</th>\n",
       "      <th>profile_score</th>\n",
       "      <th>placed</th>\n",
       "    </tr>\n",
       "  </thead>\n",
       "  <tbody>\n",
       "    <tr>\n",
       "      <th>0</th>\n",
       "      <td>5.97</td>\n",
       "      <td>106</td>\n",
       "      <td>61</td>\n",
       "      <td>0</td>\n",
       "    </tr>\n",
       "    <tr>\n",
       "      <th>1</th>\n",
       "      <td>6.83</td>\n",
       "      <td>113</td>\n",
       "      <td>77</td>\n",
       "      <td>0</td>\n",
       "    </tr>\n",
       "    <tr>\n",
       "      <th>2</th>\n",
       "      <td>6.60</td>\n",
       "      <td>110</td>\n",
       "      <td>61</td>\n",
       "      <td>0</td>\n",
       "    </tr>\n",
       "    <tr>\n",
       "      <th>3</th>\n",
       "      <td>5.54</td>\n",
       "      <td>113</td>\n",
       "      <td>68</td>\n",
       "      <td>0</td>\n",
       "    </tr>\n",
       "    <tr>\n",
       "      <th>4</th>\n",
       "      <td>6.84</td>\n",
       "      <td>102</td>\n",
       "      <td>67</td>\n",
       "      <td>0</td>\n",
       "    </tr>\n",
       "    <tr>\n",
       "      <th>...</th>\n",
       "      <td>...</td>\n",
       "      <td>...</td>\n",
       "      <td>...</td>\n",
       "      <td>...</td>\n",
       "    </tr>\n",
       "    <tr>\n",
       "      <th>295</th>\n",
       "      <td>6.44</td>\n",
       "      <td>107</td>\n",
       "      <td>54</td>\n",
       "      <td>0</td>\n",
       "    </tr>\n",
       "    <tr>\n",
       "      <th>296</th>\n",
       "      <td>6.09</td>\n",
       "      <td>108</td>\n",
       "      <td>52</td>\n",
       "      <td>0</td>\n",
       "    </tr>\n",
       "    <tr>\n",
       "      <th>297</th>\n",
       "      <td>7.68</td>\n",
       "      <td>101</td>\n",
       "      <td>70</td>\n",
       "      <td>1</td>\n",
       "    </tr>\n",
       "    <tr>\n",
       "      <th>298</th>\n",
       "      <td>7.00</td>\n",
       "      <td>90</td>\n",
       "      <td>28</td>\n",
       "      <td>1</td>\n",
       "    </tr>\n",
       "    <tr>\n",
       "      <th>299</th>\n",
       "      <td>4.79</td>\n",
       "      <td>118</td>\n",
       "      <td>70</td>\n",
       "      <td>0</td>\n",
       "    </tr>\n",
       "  </tbody>\n",
       "</table>\n",
       "<p>300 rows × 4 columns</p>\n",
       "</div>"
      ],
      "text/plain": [
       "     cgpa   iq  profile_score  placed\n",
       "0    5.97  106             61       0\n",
       "1    6.83  113             77       0\n",
       "2    6.60  110             61       0\n",
       "3    5.54  113             68       0\n",
       "4    6.84  102             67       0\n",
       "..    ...  ...            ...     ...\n",
       "295  6.44  107             54       0\n",
       "296  6.09  108             52       0\n",
       "297  7.68  101             70       1\n",
       "298  7.00   90             28       1\n",
       "299  4.79  118             70       0\n",
       "\n",
       "[300 rows x 4 columns]"
      ]
     },
     "execution_count": 98,
     "metadata": {},
     "output_type": "execute_result"
    }
   ],
   "source": [
    "data = pd.read_csv('/Users/apple/Downloads/Data-sets/students_placement.csv')\n",
    "data"
   ]
  },
  {
   "cell_type": "code",
   "execution_count": 99,
   "metadata": {},
   "outputs": [
    {
     "data": {
      "text/plain": [
       "cgpa             0\n",
       "iq               0\n",
       "profile_score    0\n",
       "placed           0\n",
       "dtype: int64"
      ]
     },
     "execution_count": 99,
     "metadata": {},
     "output_type": "execute_result"
    }
   ],
   "source": [
    "data.isna().sum()"
   ]
  },
  {
   "cell_type": "code",
   "execution_count": 100,
   "metadata": {},
   "outputs": [],
   "source": [
    "from sklearn.preprocessing import StandardScaler"
   ]
  },
  {
   "cell_type": "code",
   "execution_count": 101,
   "metadata": {},
   "outputs": [
    {
     "data": {
      "text/html": [
       "<style>#sk-container-id-18 {color: black;}#sk-container-id-18 pre{padding: 0;}#sk-container-id-18 div.sk-toggleable {background-color: white;}#sk-container-id-18 label.sk-toggleable__label {cursor: pointer;display: block;width: 100%;margin-bottom: 0;padding: 0.3em;box-sizing: border-box;text-align: center;}#sk-container-id-18 label.sk-toggleable__label-arrow:before {content: \"▸\";float: left;margin-right: 0.25em;color: #696969;}#sk-container-id-18 label.sk-toggleable__label-arrow:hover:before {color: black;}#sk-container-id-18 div.sk-estimator:hover label.sk-toggleable__label-arrow:before {color: black;}#sk-container-id-18 div.sk-toggleable__content {max-height: 0;max-width: 0;overflow: hidden;text-align: left;background-color: #f0f8ff;}#sk-container-id-18 div.sk-toggleable__content pre {margin: 0.2em;color: black;border-radius: 0.25em;background-color: #f0f8ff;}#sk-container-id-18 input.sk-toggleable__control:checked~div.sk-toggleable__content {max-height: 200px;max-width: 100%;overflow: auto;}#sk-container-id-18 input.sk-toggleable__control:checked~label.sk-toggleable__label-arrow:before {content: \"▾\";}#sk-container-id-18 div.sk-estimator input.sk-toggleable__control:checked~label.sk-toggleable__label {background-color: #d4ebff;}#sk-container-id-18 div.sk-label input.sk-toggleable__control:checked~label.sk-toggleable__label {background-color: #d4ebff;}#sk-container-id-18 input.sk-hidden--visually {border: 0;clip: rect(1px 1px 1px 1px);clip: rect(1px, 1px, 1px, 1px);height: 1px;margin: -1px;overflow: hidden;padding: 0;position: absolute;width: 1px;}#sk-container-id-18 div.sk-estimator {font-family: monospace;background-color: #f0f8ff;border: 1px dotted black;border-radius: 0.25em;box-sizing: border-box;margin-bottom: 0.5em;}#sk-container-id-18 div.sk-estimator:hover {background-color: #d4ebff;}#sk-container-id-18 div.sk-parallel-item::after {content: \"\";width: 100%;border-bottom: 1px solid gray;flex-grow: 1;}#sk-container-id-18 div.sk-label:hover label.sk-toggleable__label {background-color: #d4ebff;}#sk-container-id-18 div.sk-serial::before {content: \"\";position: absolute;border-left: 1px solid gray;box-sizing: border-box;top: 0;bottom: 0;left: 50%;z-index: 0;}#sk-container-id-18 div.sk-serial {display: flex;flex-direction: column;align-items: center;background-color: white;padding-right: 0.2em;padding-left: 0.2em;position: relative;}#sk-container-id-18 div.sk-item {position: relative;z-index: 1;}#sk-container-id-18 div.sk-parallel {display: flex;align-items: stretch;justify-content: center;background-color: white;position: relative;}#sk-container-id-18 div.sk-item::before, #sk-container-id-18 div.sk-parallel-item::before {content: \"\";position: absolute;border-left: 1px solid gray;box-sizing: border-box;top: 0;bottom: 0;left: 50%;z-index: -1;}#sk-container-id-18 div.sk-parallel-item {display: flex;flex-direction: column;z-index: 1;position: relative;background-color: white;}#sk-container-id-18 div.sk-parallel-item:first-child::after {align-self: flex-end;width: 50%;}#sk-container-id-18 div.sk-parallel-item:last-child::after {align-self: flex-start;width: 50%;}#sk-container-id-18 div.sk-parallel-item:only-child::after {width: 0;}#sk-container-id-18 div.sk-dashed-wrapped {border: 1px dashed gray;margin: 0 0.4em 0.5em 0.4em;box-sizing: border-box;padding-bottom: 0.4em;background-color: white;}#sk-container-id-18 div.sk-label label {font-family: monospace;font-weight: bold;display: inline-block;line-height: 1.2em;}#sk-container-id-18 div.sk-label-container {text-align: center;}#sk-container-id-18 div.sk-container {/* jupyter's `normalize.less` sets `[hidden] { display: none; }` but bootstrap.min.css set `[hidden] { display: none !important; }` so we also need the `!important` here to be able to override the default hidden behavior on the sphinx rendered scikit-learn.org. See: https://github.com/scikit-learn/scikit-learn/issues/21755 */display: inline-block !important;position: relative;}#sk-container-id-18 div.sk-text-repr-fallback {display: none;}</style><div id=\"sk-container-id-18\" class=\"sk-top-container\"><div class=\"sk-text-repr-fallback\"><pre>StandardScaler()</pre><b>In a Jupyter environment, please rerun this cell to show the HTML representation or trust the notebook. <br />On GitHub, the HTML representation is unable to render, please try loading this page with nbviewer.org.</b></div><div class=\"sk-container\" hidden><div class=\"sk-item\"><div class=\"sk-estimator sk-toggleable\"><input class=\"sk-toggleable__control sk-hidden--visually\" id=\"sk-estimator-id-18\" type=\"checkbox\" checked><label for=\"sk-estimator-id-18\" class=\"sk-toggleable__label sk-toggleable__label-arrow\">StandardScaler</label><div class=\"sk-toggleable__content\"><pre>StandardScaler()</pre></div></div></div></div></div>"
      ],
      "text/plain": [
       "StandardScaler()"
      ]
     },
     "execution_count": 101,
     "metadata": {},
     "output_type": "execute_result"
    }
   ],
   "source": [
    "ss = StandardScaler()\n",
    "ss"
   ]
  },
  {
   "cell_type": "code",
   "execution_count": 102,
   "metadata": {},
   "outputs": [
    {
     "data": {
      "text/html": [
       "<div>\n",
       "<style scoped>\n",
       "    .dataframe tbody tr th:only-of-type {\n",
       "        vertical-align: middle;\n",
       "    }\n",
       "\n",
       "    .dataframe tbody tr th {\n",
       "        vertical-align: top;\n",
       "    }\n",
       "\n",
       "    .dataframe thead th {\n",
       "        text-align: right;\n",
       "    }\n",
       "</style>\n",
       "<table border=\"1\" class=\"dataframe\">\n",
       "  <thead>\n",
       "    <tr style=\"text-align: right;\">\n",
       "      <th></th>\n",
       "      <th>cgpa</th>\n",
       "      <th>iq</th>\n",
       "      <th>profile_score</th>\n",
       "    </tr>\n",
       "  </thead>\n",
       "  <tbody>\n",
       "    <tr>\n",
       "      <th>0</th>\n",
       "      <td>5.97</td>\n",
       "      <td>106</td>\n",
       "      <td>61</td>\n",
       "    </tr>\n",
       "    <tr>\n",
       "      <th>1</th>\n",
       "      <td>6.83</td>\n",
       "      <td>113</td>\n",
       "      <td>77</td>\n",
       "    </tr>\n",
       "    <tr>\n",
       "      <th>2</th>\n",
       "      <td>6.60</td>\n",
       "      <td>110</td>\n",
       "      <td>61</td>\n",
       "    </tr>\n",
       "    <tr>\n",
       "      <th>3</th>\n",
       "      <td>5.54</td>\n",
       "      <td>113</td>\n",
       "      <td>68</td>\n",
       "    </tr>\n",
       "    <tr>\n",
       "      <th>4</th>\n",
       "      <td>6.84</td>\n",
       "      <td>102</td>\n",
       "      <td>67</td>\n",
       "    </tr>\n",
       "    <tr>\n",
       "      <th>...</th>\n",
       "      <td>...</td>\n",
       "      <td>...</td>\n",
       "      <td>...</td>\n",
       "    </tr>\n",
       "    <tr>\n",
       "      <th>295</th>\n",
       "      <td>6.44</td>\n",
       "      <td>107</td>\n",
       "      <td>54</td>\n",
       "    </tr>\n",
       "    <tr>\n",
       "      <th>296</th>\n",
       "      <td>6.09</td>\n",
       "      <td>108</td>\n",
       "      <td>52</td>\n",
       "    </tr>\n",
       "    <tr>\n",
       "      <th>297</th>\n",
       "      <td>7.68</td>\n",
       "      <td>101</td>\n",
       "      <td>70</td>\n",
       "    </tr>\n",
       "    <tr>\n",
       "      <th>298</th>\n",
       "      <td>7.00</td>\n",
       "      <td>90</td>\n",
       "      <td>28</td>\n",
       "    </tr>\n",
       "    <tr>\n",
       "      <th>299</th>\n",
       "      <td>4.79</td>\n",
       "      <td>118</td>\n",
       "      <td>70</td>\n",
       "    </tr>\n",
       "  </tbody>\n",
       "</table>\n",
       "<p>300 rows × 3 columns</p>\n",
       "</div>"
      ],
      "text/plain": [
       "     cgpa   iq  profile_score\n",
       "0    5.97  106             61\n",
       "1    6.83  113             77\n",
       "2    6.60  110             61\n",
       "3    5.54  113             68\n",
       "4    6.84  102             67\n",
       "..    ...  ...            ...\n",
       "295  6.44  107             54\n",
       "296  6.09  108             52\n",
       "297  7.68  101             70\n",
       "298  7.00   90             28\n",
       "299  4.79  118             70\n",
       "\n",
       "[300 rows x 3 columns]"
      ]
     },
     "execution_count": 102,
     "metadata": {},
     "output_type": "execute_result"
    }
   ],
   "source": [
    "x = data.drop(columns=['placed'])\n",
    "x"
   ]
  },
  {
   "cell_type": "code",
   "execution_count": 103,
   "metadata": {},
   "outputs": [
    {
     "data": {
      "text/plain": [
       "array([[-0.86808798,  0.41264917,  0.06709394],\n",
       "       [ 0.0185577 ,  1.25479032,  1.1892225 ],\n",
       "       [-0.21856847,  0.89387268,  0.06709394],\n",
       "       [-1.31141083,  1.25479032,  0.55802518],\n",
       "       [ 0.02886753, -0.06857435,  0.48789215],\n",
       "       [ 0.34847237, -0.54979787,  0.20736001],\n",
       "       [ 0.60621821, -0.30918611,  0.76842429],\n",
       "       [ 1.19387872, -1.99346842,  2.80228232],\n",
       "       [-0.17732914,  1.01417856, -0.28357124],\n",
       "       [ 1.03923122, -0.42949199, -0.14330517],\n",
       "       [ 0.85365422, -0.06857435, -0.63423642],\n",
       "       [-1.20831249,  0.41264917, -1.68623195],\n",
       "       [ 0.0185577 ,  0.05173153, -2.17716319],\n",
       "       [ 0.95675255, -0.79040963,  0.83855733],\n",
       "       [ 1.25573773, -1.27163314, -0.42383731],\n",
       "       [ 1.10109022, -1.39193902, -0.07317213],\n",
       "       [-0.21856847,  1.01417856, -0.63423642],\n",
       "       [ 2.08052441, -1.15132726, -1.05503463],\n",
       "       [ 0.24537404, -0.67010375,  0.13722697],\n",
       "       [ 0.57528871, -0.42949199,  1.1892225 ],\n",
       "       [-1.06397482,  1.13448444, -0.98490159],\n",
       "       [-1.44543866,  1.49540208, -0.42383731],\n",
       "       [ 0.56497888,  0.29234329,  1.1892225 ],\n",
       "       [ 0.97737222, -0.79040963,  0.13722697],\n",
       "       [-1.34234033,  1.13448444, -0.63423642],\n",
       "       [ 0.38971171, -0.67010375, -0.91476856],\n",
       "       [ 0.94644272, -1.5122449 ,  0.55802518],\n",
       "       [-0.15670947,  0.41264917,  0.06709394],\n",
       "       [-0.0742308 ,  0.53295504,  0.41775911],\n",
       "       [ 0.41033137, -0.79040963,  2.3814841 ],\n",
       "       [-0.84746832,  1.25479032, -0.07317213],\n",
       "       [-0.55879298,  0.41264917,  1.39962161],\n",
       "       [-0.24949797,  0.89387268,  0.06709394],\n",
       "       [ 0.60621821,  0.29234329, -1.12516766],\n",
       "       [ 0.76086572, -1.27163314,  0.20736001],\n",
       "       [-1.35265016,  1.13448444, -0.42383731],\n",
       "       [ 1.15263939, -1.03102138, -0.49397035],\n",
       "       [ 0.0804167 ,  0.05173153, -1.61609891],\n",
       "       [-0.02268163, -1.27163314,  0.90869036],\n",
       "       [-0.24949797,  0.65326092,  0.76842429],\n",
       "       [-0.05361113, -0.18888023,  0.27749304],\n",
       "       [-0.78560932,  0.41264917,  2.3814841 ],\n",
       "       [-0.82684865,  1.49540208,  0.06709394],\n",
       "       [-0.48662414,  0.29234329,  0.13722697],\n",
       "       [-0.79591915,  1.01417856,  0.76842429],\n",
       "       [ 0.02886753, -0.91071551, -0.63423642],\n",
       "       [ 0.52373954, -0.67010375, -0.42383731],\n",
       "       [ 1.31759673, -0.67010375,  1.39962161],\n",
       "       [ 0.81241488, -0.54979787, -0.14330517],\n",
       "       [ 0.86396405, -1.03102138,  1.89055286],\n",
       "       [ 0.24537404, -0.06857435, -1.05503463],\n",
       "       [-0.06392097,  0.41264917,  0.62815822],\n",
       "       [-0.25980781,  0.17203741,  1.1892225 ],\n",
       "       [ 1.66813107, -1.75285666, -1.26543373],\n",
       "       [ 0.38971171, -0.54979787,  0.34762608],\n",
       "       [ 1.71968023, -1.39193902, -0.63423642],\n",
       "       [-1.548537  ,  1.61570796, -0.63423642],\n",
       "       [-0.36290614,  0.7735668 ,  0.06709394],\n",
       "       [ 0.91551322,  0.05173153, -0.28357124],\n",
       "       [-0.37321597,  0.53295504,  0.20736001],\n",
       "       [ 0.03917737,  0.17203741, -0.77450249],\n",
       "       [-0.58972248,  1.01417856,  0.62815822],\n",
       "       [ 0.29692321, -0.67010375,  1.82041982],\n",
       "       [ 0.44126088, -0.91071551, -1.1953007 ],\n",
       "       [ 0.70931655, -0.06857435, -0.07317213],\n",
       "       [ 1.6475114 , -0.30918611, -0.14330517],\n",
       "       [-0.40414547,  1.49540208, -0.07317213],\n",
       "       [-1.29079116,  0.53295504,  2.45161714],\n",
       "       [-1.63101567,  1.01417856,  1.04895643],\n",
       "       [ 1.34852623, -1.27163314, -1.61609891],\n",
       "       [-0.81653882,  2.21723735, -2.31742926],\n",
       "       [ 0.24537404, -0.79040963, -0.77450249],\n",
       "       [-0.68251098, -2.1137743 ,  0.20736001],\n",
       "       [-1.33203049,  0.53295504,  1.25935554],\n",
       "       [ 0.69900671, -1.75285666, -0.91476856],\n",
       "       [-1.08459449,  0.65326092,  0.27749304],\n",
       "       [ 0.18351504, -1.03102138,  0.90869036],\n",
       "       [ 0.30723304, -0.67010375, -0.77450249],\n",
       "       [ 0.0185577 ,  1.01417856,  0.20736001],\n",
       "       [ 1.6475114 , -1.15132726,  1.25935554],\n",
       "       [-1.56915666,  0.05173153,  1.61002071],\n",
       "       [-1.23924199,  0.89387268,  0.48789215],\n",
       "       [-0.77529948,  1.61570796, -0.49397035],\n",
       "       [-0.72375031,  0.41264917,  0.27749304],\n",
       "       [ 0.2041347 , -0.67010375, -0.07317213],\n",
       "       [ 0.0494872 ,  0.41264917, -0.07317213],\n",
       "       [ 0.51342971,  0.17203741, -1.1953007 ],\n",
       "       [-1.52791733,  0.05173153,  1.04895643],\n",
       "       [-0.92994699,  1.3750962 , -0.42383731],\n",
       "       [-1.01242565,  0.89387268,  0.55802518],\n",
       "       [ 0.84334438, -1.39193902,  1.32948857],\n",
       "       [-1.93000084,  0.17203741,  1.53988768],\n",
       "       [-1.03304532,  1.49540208, -1.75636498],\n",
       "       [ 0.25568387,  0.65326092, -1.47583284],\n",
       "       [ 0.27630354, -0.42949199,  0.06709394],\n",
       "       [ 0.63714771, -1.75285666,  0.62815822],\n",
       "       [-1.610396  ,  1.25479032,  0.34762608],\n",
       "       [ 0.52373954, -0.18888023,  0.62815822],\n",
       "       [ 0.47219038, -1.39193902,  0.69829126],\n",
       "       [ 1.33821639, -0.91071551, -0.0030391 ],\n",
       "       [ 1.5856524 , -0.54979787,  0.76842429],\n",
       "       [-1.01242565,  0.41264917, -0.0030391 ],\n",
       "       [ 1.44131473, -1.03102138, -0.56410338],\n",
       "       [-1.23924199,  0.65326092, -0.35370427],\n",
       "       [ 1.30728689, -1.03102138, -0.77450249],\n",
       "       [ 0.55466904, -1.15132726, -1.05503463],\n",
       "       [-1.23924199,  0.65326092,  0.9788234 ],\n",
       "       [ 0.0804167 ,  0.29234329,  1.11908947],\n",
       "       [ 0.65776738,  0.65326092,  0.34762608],\n",
       "       [-0.60003231,  1.25479032,  0.34762608],\n",
       "       [ 0.60621821,  1.01417856, -0.98490159],\n",
       "       [-1.17738299,  1.13448444,  0.48789215],\n",
       "       [-0.06392097,  1.01417856, -2.31742926],\n",
       "       [ 1.48255406, -1.27163314,  0.48789215],\n",
       "       [-0.95056665,  0.65326092,  0.83855733],\n",
       "       [ 0.50311988, -0.18888023, -0.70436945],\n",
       "       [-0.20825864,  0.29234329, -0.49397035],\n",
       "       [ 0.61652805,  0.89387268, -0.2134382 ],\n",
       "       [-2.07433851,  0.7735668 , -2.45769533],\n",
       "       [-1.31141083,  1.85631972, -0.0030391 ],\n",
       "       [ 1.15263939, -0.91071551, -0.70436945],\n",
       "       [-1.31141083,  1.3750962 ,  1.25935554],\n",
       "       [ 0.92582305,  0.7735668 , -0.70436945],\n",
       "       [-0.56910281, -0.67010375,  1.53988768],\n",
       "       [ 0.76086572, -0.30918611, -0.2134382 ],\n",
       "       [-0.55879298,  0.89387268, -1.54596588],\n",
       "       [-0.08454064, -0.18888023,  0.69829126],\n",
       "       [-0.1670193 ,  0.41264917, -1.05503463],\n",
       "       [ 1.22480822, -1.27163314, -0.07317213],\n",
       "       [-1.04335515,  1.61570796, -0.70436945],\n",
       "       [-0.12577997, -1.15132726,  0.83855733],\n",
       "       [ 0.27630354, -0.91071551, -1.1953007 ],\n",
       "       [ 0.18351504,  1.61570796,  0.20736001],\n",
       "       [ 1.44131473, -1.63255078, -0.63423642],\n",
       "       [-0.23918814,  1.25479032, -0.2134382 ],\n",
       "       [-0.28042747, -0.67010375, -1.1953007 ],\n",
       "       [ 0.75055588, -0.54979787,  0.48789215],\n",
       "       [ 2.32796041, -2.23408018,  0.69829126],\n",
       "       [ 2.04959491, -2.35438606,  0.13722697],\n",
       "       [ 0.75055588, -0.79040963,  0.76842429],\n",
       "       [-0.48662414,  0.29234329,  0.34762608],\n",
       "       [-1.81659267,  0.7735668 , -0.14330517],\n",
       "       [-0.82684865,  0.41264917,  0.83855733],\n",
       "       [ 0.19382487, -0.30918611,  0.13722697],\n",
       "       [ 0.2041347 , -0.42949199,  0.27749304],\n",
       "       [-0.70313065,  0.53295504,  1.25935554],\n",
       "       [ 0.02886753, -0.79040963, -1.96676409],\n",
       "       [ 1.33821639, -1.15132726,  0.83855733],\n",
       "       [ 0.75055588, -1.5122449 , -0.49397035],\n",
       "       [-0.98149615, -0.42949199,  1.89055286],\n",
       "       [-1.17738299,  0.05173153,  0.55802518],\n",
       "       [-1.14645349,  1.85631972,  0.34762608],\n",
       "       [ 1.34852623,  0.05173153, -2.3875623 ],\n",
       "       [-0.55879298,  0.53295504, -0.07317213],\n",
       "       [-1.29079116,  1.73601384,  0.55802518],\n",
       "       [-0.1360898 ,  0.89387268, -0.70436945],\n",
       "       [-1.13614366,  1.73601384,  1.11908947],\n",
       "       [-1.672255  ,  0.65326092,  0.62815822],\n",
       "       [-1.97124017,  0.89387268, -1.12516766],\n",
       "       [-1.00211582,  0.29234329,  0.48789215],\n",
       "       [-1.19800266,  1.61570796,  0.69829126],\n",
       "       [-0.72375031,  1.01417856, -1.12516766],\n",
       "       [-0.83715848, -0.18888023, -0.35370427],\n",
       "       [-1.33203049,  1.61570796, -0.14330517],\n",
       "       [-0.81653882,  0.53295504,  0.62815822],\n",
       "       [ 0.72993621,  0.41264917,  0.90869036],\n",
       "       [ 1.40007539, -1.03102138, -0.42383731],\n",
       "       [-1.734114  ,  1.3750962 ,  1.61002071],\n",
       "       [ 1.34852623, -1.03102138,  0.83855733],\n",
       "       [-0.48662414, -0.42949199, -0.56410338],\n",
       "       [-1.08459449,  0.05173153,  0.48789215],\n",
       "       [ 1.95680641, -1.75285666, -0.14330517],\n",
       "       [-0.1979488 , -0.79040963, -1.61609891],\n",
       "       [ 0.42064121, -1.03102138, -0.14330517],\n",
       "       [ 1.02892139, -0.91071551, -0.07317213],\n",
       "       [-0.42476514,  0.29234329, -0.35370427],\n",
       "       [-2.28053518,  1.61570796,  0.76842429],\n",
       "       [-0.15670947,  0.29234329,  0.48789215],\n",
       "       [-1.07428465,  0.29234329, -0.91476856],\n",
       "       [-1.17738299,  0.7735668 , -0.42383731],\n",
       "       [ 1.26604756, -1.63255078, -0.84463552],\n",
       "       [-0.66189131,  1.49540208, -0.56410338],\n",
       "       [ 0.87427388, -1.27163314,  0.76842429],\n",
       "       [-0.12577997,  0.17203741,  0.9788234 ],\n",
       "       [ 1.72999007, -1.63255078,  0.69829126],\n",
       "       [ 0.07010687, -1.27163314, -0.07317213],\n",
       "       [ 0.72993621,  0.89387268, -0.63423642],\n",
       "       [ 1.78153924, -1.75285666,  0.48789215],\n",
       "       [ 0.16289537, -0.18888023,  0.55802518],\n",
       "       [-0.79591915,  0.17203741, -2.10703016],\n",
       "       [ 0.41033137, -0.79040963, -0.07317213],\n",
       "       [-1.5176075 ,  0.17203741,  2.66201624],\n",
       "       [-1.24955183,  0.7735668 , -0.2134382 ],\n",
       "       [ 1.60627207,  0.53295504, -0.14330517],\n",
       "       [ 0.2350642 , -0.79040963, -0.91476856],\n",
       "       [ 1.19387872, -0.79040963,  1.11908947],\n",
       "       [-0.05361113,  0.65326092,  0.83855733],\n",
       "       [-0.50724381,  0.53295504,  0.55802518],\n",
       "       [-0.17732914, -0.54979787, -0.77450249],\n",
       "       [-1.17738299,  1.01417856,  0.62815822],\n",
       "       [ 1.60627207, -1.39193902,  0.20736001],\n",
       "       [ 1.04954105, -0.67010375, -1.1953007 ],\n",
       "       [-1.89907134,  1.61570796,  0.83855733],\n",
       "       [ 1.7093704 , -1.87316254,  0.83855733],\n",
       "       [-0.27011764,  0.53295504, -0.07317213],\n",
       "       [-0.11547014, -0.06857435, -0.14330517],\n",
       "       [-0.86808798,  1.61570796, -2.59796141],\n",
       "       [ 0.86396405, -1.15132726, -1.75636498],\n",
       "       [-0.38352581,  1.3750962 , -1.26543373],\n",
       "       [ 0.44126088, -0.91071551,  0.41775911],\n",
       "       [ 0.31754287, -1.75285666, -0.84463552],\n",
       "       [-1.20831249,  0.89387268, -0.63423642],\n",
       "       [ 0.0804167 , -1.75285666,  2.66201624],\n",
       "       [-0.38352581, -0.06857435, -0.42383731],\n",
       "       [-1.04335515,  0.53295504,  2.24121803],\n",
       "       [ 0.19382487,  0.17203741, -0.84463552],\n",
       "       [-0.35259631,  0.65326092, -1.33556677],\n",
       "       [ 0.41033137,  0.17203741,  1.11908947],\n",
       "       [-0.28042747,  0.7735668 , -0.63423642],\n",
       "       [ 0.80210505, -1.87316254,  0.55802518],\n",
       "       [ 0.43095104, -1.63255078, -0.14330517],\n",
       "       [ 1.48255406, -0.79040963, -0.2134382 ],\n",
       "       [ 0.58559855, -0.42949199,  0.27749304],\n",
       "       [-1.22893216,  0.41264917,  1.25935554],\n",
       "       [-1.07428465,  1.13448444,  0.13722697],\n",
       "       [ 0.62683788, -1.27163314,  0.20736001],\n",
       "       [-0.33197664,  0.7735668 , -0.42383731],\n",
       "       [ 0.26599371, -1.03102138, -0.77450249],\n",
       "       [ 1.29697706, -1.27163314,  0.13722697],\n",
       "       [ 2.56508659, -2.1137743 ,  0.55802518],\n",
       "       [ 2.30734075, -1.03102138,  0.48789215],\n",
       "       [-0.81653882,  0.53295504,  0.9788234 ],\n",
       "       [-0.99180599,  1.3750962 ,  0.55802518],\n",
       "       [ 0.16289537,  0.29234329, -0.49397035],\n",
       "       [ 1.08047056, -0.18888023,  0.69829126],\n",
       "       [-1.74442384,  0.29234329,  0.55802518],\n",
       "       [-0.98149615,  0.29234329, -1.1953007 ],\n",
       "       [ 0.31754287,  0.53295504,  0.13722697],\n",
       "       [ 1.5237934 , -1.63255078,  0.69829126],\n",
       "       [ 0.1113462 , -0.42949199,  1.75028679],\n",
       "       [ 0.69900671, -0.91071551,  0.27749304],\n",
       "       [ 1.8021589 , -0.06857435,  0.20736001],\n",
       "       [ 0.44126088,  1.25479032,  0.83855733],\n",
       "       [-1.08459449,  2.09693147,  0.27749304],\n",
       "       [-0.33197664,  0.65326092, -1.05503463],\n",
       "       [ 1.76091957, -0.42949199, -0.14330517],\n",
       "       [-0.69282081,  0.89387268, -0.2134382 ],\n",
       "       [-0.06392097, -1.27163314, -1.47583284],\n",
       "       [-0.89901748, -0.18888023, -1.54596588],\n",
       "       [-0.29073731, -1.5122449 ,  2.73214928],\n",
       "       [-1.36295999,  0.89387268, -0.14330517],\n",
       "       [ 0.83303455, -0.67010375, -1.1953007 ],\n",
       "       [ 0.07010687, -1.03102138,  0.76842429],\n",
       "       [ 2.09083424, -1.39193902,  1.46975464],\n",
       "       [ 0.54435921, -0.67010375, -0.63423642],\n",
       "       [-0.48662414,  1.13448444, -0.42383731],\n",
       "       [ 0.86396405, -0.54979787, -0.70436945],\n",
       "       [-1.31141083,  0.53295504,  1.11908947],\n",
       "       [-1.08459449,  1.3750962 , -0.56410338],\n",
       "       [-1.734114  ,  1.3750962 , -0.42383731],\n",
       "       [ 0.68869688, -0.30918611, -0.42383731],\n",
       "       [ 0.71962638, -1.5122449 ,  0.62815822],\n",
       "       [-0.02268163, -0.06857435, -0.35370427],\n",
       "       [-0.0123718 ,  0.05173153, -0.56410338],\n",
       "       [ 0.31754287, -0.79040963, -0.42383731],\n",
       "       [-0.48662414,  0.29234329,  0.34762608],\n",
       "       [ 0.46188054,  0.89387268, -0.28357124],\n",
       "       [ 0.10103637,  1.13448444, -1.05503463],\n",
       "       [ 0.62683788, -0.54979787, -0.77450249],\n",
       "       [ 1.10109022, -0.67010375, -2.03689712],\n",
       "       [-1.34234033,  1.3750962 , -0.63423642],\n",
       "       [ 0.22475437, -0.67010375, -0.70436945],\n",
       "       [-0.89901748,  0.65326092, -2.24729623],\n",
       "       [ 1.35883606, -1.39193902, -1.75636498],\n",
       "       [-1.36295999,  0.89387268, -0.91476856],\n",
       "       [-0.53817331, -0.06857435, -0.07317213],\n",
       "       [ 0.0804167 ,  0.17203741,  1.46975464],\n",
       "       [-1.672255  ,  1.61570796,  1.82041982],\n",
       "       [-0.92994699,  0.65326092, -1.05503463],\n",
       "       [ 0.33816254, -0.42949199,  0.69829126],\n",
       "       [ 0.03917737, -0.06857435,  0.48789215],\n",
       "       [ 0.81241488,  0.05173153,  0.27749304],\n",
       "       [ 1.4928639 , -1.27163314,  0.62815822],\n",
       "       [ 1.5856524 , -0.79040963,  2.03081893],\n",
       "       [ 0.25568387, -1.15132726, -1.12516766],\n",
       "       [ 1.94649657, -0.79040963, -0.28357124],\n",
       "       [ 0.1732052 ,  0.29234329, -0.42383731],\n",
       "       [-1.5794665 ,  1.01417856, -0.56410338],\n",
       "       [ 0.34847237,  0.41264917,  1.25935554],\n",
       "       [-1.01242565,  0.17203741, -0.63423642],\n",
       "       [-1.00211582,  1.13448444, -1.96676409],\n",
       "       [ 1.04954105, -0.18888023, -1.33556677],\n",
       "       [-0.0123718 ,  0.7735668 , -1.33556677],\n",
       "       [ 0.0494872 ,  0.89387268,  0.20736001],\n",
       "       [ 0.37940187,  0.41264917,  0.06709394],\n",
       "       [-0.38352581,  0.53295504, -0.42383731],\n",
       "       [-0.74436998,  0.65326092, -0.56410338],\n",
       "       [ 0.89489355, -0.18888023,  0.69829126],\n",
       "       [ 0.19382487, -1.5122449 , -2.24729623],\n",
       "       [-2.08464834,  1.85631972,  0.69829126]])"
      ]
     },
     "execution_count": 103,
     "metadata": {},
     "output_type": "execute_result"
    }
   ],
   "source": [
    "x_tfd = ss.fit_transform(x)\n",
    "x_tfd"
   ]
  },
  {
   "cell_type": "code",
   "execution_count": 104,
   "metadata": {},
   "outputs": [
    {
     "data": {
      "text/plain": [
       "0      0\n",
       "1      0\n",
       "2      0\n",
       "3      0\n",
       "4      0\n",
       "      ..\n",
       "295    0\n",
       "296    0\n",
       "297    1\n",
       "298    1\n",
       "299    0\n",
       "Name: placed, Length: 300, dtype: int64"
      ]
     },
     "execution_count": 104,
     "metadata": {},
     "output_type": "execute_result"
    }
   ],
   "source": [
    "y = data['placed']\n",
    "y"
   ]
  },
  {
   "cell_type": "code",
   "execution_count": 105,
   "metadata": {},
   "outputs": [],
   "source": [
    "from sklearn.model_selection import train_test_split"
   ]
  },
  {
   "cell_type": "code",
   "execution_count": 106,
   "metadata": {},
   "outputs": [],
   "source": [
    "x_train,x_test,y_train,y_test = train_test_split(x_tfd,y,test_size=0.2,random_state=4)"
   ]
  },
  {
   "cell_type": "code",
   "execution_count": 107,
   "metadata": {},
   "outputs": [
    {
     "data": {
      "text/plain": [
       "((240, 3), (240,), (60, 3), (60,))"
      ]
     },
     "execution_count": 107,
     "metadata": {},
     "output_type": "execute_result"
    }
   ],
   "source": [
    "x_train.shape,y_train.shape,x_test.shape,y_test.shape"
   ]
  },
  {
   "cell_type": "code",
   "execution_count": 108,
   "metadata": {},
   "outputs": [],
   "source": [
    "from sklearn.metrics import accuracy_score"
   ]
  },
  {
   "cell_type": "code",
   "execution_count": 109,
   "metadata": {},
   "outputs": [],
   "source": [
    "from sklearn.svm import SVC"
   ]
  },
  {
   "cell_type": "code",
   "execution_count": 110,
   "metadata": {},
   "outputs": [
    {
     "data": {
      "text/html": [
       "<style>#sk-container-id-19 {color: black;}#sk-container-id-19 pre{padding: 0;}#sk-container-id-19 div.sk-toggleable {background-color: white;}#sk-container-id-19 label.sk-toggleable__label {cursor: pointer;display: block;width: 100%;margin-bottom: 0;padding: 0.3em;box-sizing: border-box;text-align: center;}#sk-container-id-19 label.sk-toggleable__label-arrow:before {content: \"▸\";float: left;margin-right: 0.25em;color: #696969;}#sk-container-id-19 label.sk-toggleable__label-arrow:hover:before {color: black;}#sk-container-id-19 div.sk-estimator:hover label.sk-toggleable__label-arrow:before {color: black;}#sk-container-id-19 div.sk-toggleable__content {max-height: 0;max-width: 0;overflow: hidden;text-align: left;background-color: #f0f8ff;}#sk-container-id-19 div.sk-toggleable__content pre {margin: 0.2em;color: black;border-radius: 0.25em;background-color: #f0f8ff;}#sk-container-id-19 input.sk-toggleable__control:checked~div.sk-toggleable__content {max-height: 200px;max-width: 100%;overflow: auto;}#sk-container-id-19 input.sk-toggleable__control:checked~label.sk-toggleable__label-arrow:before {content: \"▾\";}#sk-container-id-19 div.sk-estimator input.sk-toggleable__control:checked~label.sk-toggleable__label {background-color: #d4ebff;}#sk-container-id-19 div.sk-label input.sk-toggleable__control:checked~label.sk-toggleable__label {background-color: #d4ebff;}#sk-container-id-19 input.sk-hidden--visually {border: 0;clip: rect(1px 1px 1px 1px);clip: rect(1px, 1px, 1px, 1px);height: 1px;margin: -1px;overflow: hidden;padding: 0;position: absolute;width: 1px;}#sk-container-id-19 div.sk-estimator {font-family: monospace;background-color: #f0f8ff;border: 1px dotted black;border-radius: 0.25em;box-sizing: border-box;margin-bottom: 0.5em;}#sk-container-id-19 div.sk-estimator:hover {background-color: #d4ebff;}#sk-container-id-19 div.sk-parallel-item::after {content: \"\";width: 100%;border-bottom: 1px solid gray;flex-grow: 1;}#sk-container-id-19 div.sk-label:hover label.sk-toggleable__label {background-color: #d4ebff;}#sk-container-id-19 div.sk-serial::before {content: \"\";position: absolute;border-left: 1px solid gray;box-sizing: border-box;top: 0;bottom: 0;left: 50%;z-index: 0;}#sk-container-id-19 div.sk-serial {display: flex;flex-direction: column;align-items: center;background-color: white;padding-right: 0.2em;padding-left: 0.2em;position: relative;}#sk-container-id-19 div.sk-item {position: relative;z-index: 1;}#sk-container-id-19 div.sk-parallel {display: flex;align-items: stretch;justify-content: center;background-color: white;position: relative;}#sk-container-id-19 div.sk-item::before, #sk-container-id-19 div.sk-parallel-item::before {content: \"\";position: absolute;border-left: 1px solid gray;box-sizing: border-box;top: 0;bottom: 0;left: 50%;z-index: -1;}#sk-container-id-19 div.sk-parallel-item {display: flex;flex-direction: column;z-index: 1;position: relative;background-color: white;}#sk-container-id-19 div.sk-parallel-item:first-child::after {align-self: flex-end;width: 50%;}#sk-container-id-19 div.sk-parallel-item:last-child::after {align-self: flex-start;width: 50%;}#sk-container-id-19 div.sk-parallel-item:only-child::after {width: 0;}#sk-container-id-19 div.sk-dashed-wrapped {border: 1px dashed gray;margin: 0 0.4em 0.5em 0.4em;box-sizing: border-box;padding-bottom: 0.4em;background-color: white;}#sk-container-id-19 div.sk-label label {font-family: monospace;font-weight: bold;display: inline-block;line-height: 1.2em;}#sk-container-id-19 div.sk-label-container {text-align: center;}#sk-container-id-19 div.sk-container {/* jupyter's `normalize.less` sets `[hidden] { display: none; }` but bootstrap.min.css set `[hidden] { display: none !important; }` so we also need the `!important` here to be able to override the default hidden behavior on the sphinx rendered scikit-learn.org. See: https://github.com/scikit-learn/scikit-learn/issues/21755 */display: inline-block !important;position: relative;}#sk-container-id-19 div.sk-text-repr-fallback {display: none;}</style><div id=\"sk-container-id-19\" class=\"sk-top-container\"><div class=\"sk-text-repr-fallback\"><pre>SVC()</pre><b>In a Jupyter environment, please rerun this cell to show the HTML representation or trust the notebook. <br />On GitHub, the HTML representation is unable to render, please try loading this page with nbviewer.org.</b></div><div class=\"sk-container\" hidden><div class=\"sk-item\"><div class=\"sk-estimator sk-toggleable\"><input class=\"sk-toggleable__control sk-hidden--visually\" id=\"sk-estimator-id-19\" type=\"checkbox\" checked><label for=\"sk-estimator-id-19\" class=\"sk-toggleable__label sk-toggleable__label-arrow\">SVC</label><div class=\"sk-toggleable__content\"><pre>SVC()</pre></div></div></div></div></div>"
      ],
      "text/plain": [
       "SVC()"
      ]
     },
     "execution_count": 110,
     "metadata": {},
     "output_type": "execute_result"
    }
   ],
   "source": [
    "svc = SVC()\n",
    "svc"
   ]
  },
  {
   "cell_type": "code",
   "execution_count": 111,
   "metadata": {},
   "outputs": [
    {
     "data": {
      "text/html": [
       "<style>#sk-container-id-20 {color: black;}#sk-container-id-20 pre{padding: 0;}#sk-container-id-20 div.sk-toggleable {background-color: white;}#sk-container-id-20 label.sk-toggleable__label {cursor: pointer;display: block;width: 100%;margin-bottom: 0;padding: 0.3em;box-sizing: border-box;text-align: center;}#sk-container-id-20 label.sk-toggleable__label-arrow:before {content: \"▸\";float: left;margin-right: 0.25em;color: #696969;}#sk-container-id-20 label.sk-toggleable__label-arrow:hover:before {color: black;}#sk-container-id-20 div.sk-estimator:hover label.sk-toggleable__label-arrow:before {color: black;}#sk-container-id-20 div.sk-toggleable__content {max-height: 0;max-width: 0;overflow: hidden;text-align: left;background-color: #f0f8ff;}#sk-container-id-20 div.sk-toggleable__content pre {margin: 0.2em;color: black;border-radius: 0.25em;background-color: #f0f8ff;}#sk-container-id-20 input.sk-toggleable__control:checked~div.sk-toggleable__content {max-height: 200px;max-width: 100%;overflow: auto;}#sk-container-id-20 input.sk-toggleable__control:checked~label.sk-toggleable__label-arrow:before {content: \"▾\";}#sk-container-id-20 div.sk-estimator input.sk-toggleable__control:checked~label.sk-toggleable__label {background-color: #d4ebff;}#sk-container-id-20 div.sk-label input.sk-toggleable__control:checked~label.sk-toggleable__label {background-color: #d4ebff;}#sk-container-id-20 input.sk-hidden--visually {border: 0;clip: rect(1px 1px 1px 1px);clip: rect(1px, 1px, 1px, 1px);height: 1px;margin: -1px;overflow: hidden;padding: 0;position: absolute;width: 1px;}#sk-container-id-20 div.sk-estimator {font-family: monospace;background-color: #f0f8ff;border: 1px dotted black;border-radius: 0.25em;box-sizing: border-box;margin-bottom: 0.5em;}#sk-container-id-20 div.sk-estimator:hover {background-color: #d4ebff;}#sk-container-id-20 div.sk-parallel-item::after {content: \"\";width: 100%;border-bottom: 1px solid gray;flex-grow: 1;}#sk-container-id-20 div.sk-label:hover label.sk-toggleable__label {background-color: #d4ebff;}#sk-container-id-20 div.sk-serial::before {content: \"\";position: absolute;border-left: 1px solid gray;box-sizing: border-box;top: 0;bottom: 0;left: 50%;z-index: 0;}#sk-container-id-20 div.sk-serial {display: flex;flex-direction: column;align-items: center;background-color: white;padding-right: 0.2em;padding-left: 0.2em;position: relative;}#sk-container-id-20 div.sk-item {position: relative;z-index: 1;}#sk-container-id-20 div.sk-parallel {display: flex;align-items: stretch;justify-content: center;background-color: white;position: relative;}#sk-container-id-20 div.sk-item::before, #sk-container-id-20 div.sk-parallel-item::before {content: \"\";position: absolute;border-left: 1px solid gray;box-sizing: border-box;top: 0;bottom: 0;left: 50%;z-index: -1;}#sk-container-id-20 div.sk-parallel-item {display: flex;flex-direction: column;z-index: 1;position: relative;background-color: white;}#sk-container-id-20 div.sk-parallel-item:first-child::after {align-self: flex-end;width: 50%;}#sk-container-id-20 div.sk-parallel-item:last-child::after {align-self: flex-start;width: 50%;}#sk-container-id-20 div.sk-parallel-item:only-child::after {width: 0;}#sk-container-id-20 div.sk-dashed-wrapped {border: 1px dashed gray;margin: 0 0.4em 0.5em 0.4em;box-sizing: border-box;padding-bottom: 0.4em;background-color: white;}#sk-container-id-20 div.sk-label label {font-family: monospace;font-weight: bold;display: inline-block;line-height: 1.2em;}#sk-container-id-20 div.sk-label-container {text-align: center;}#sk-container-id-20 div.sk-container {/* jupyter's `normalize.less` sets `[hidden] { display: none; }` but bootstrap.min.css set `[hidden] { display: none !important; }` so we also need the `!important` here to be able to override the default hidden behavior on the sphinx rendered scikit-learn.org. See: https://github.com/scikit-learn/scikit-learn/issues/21755 */display: inline-block !important;position: relative;}#sk-container-id-20 div.sk-text-repr-fallback {display: none;}</style><div id=\"sk-container-id-20\" class=\"sk-top-container\"><div class=\"sk-text-repr-fallback\"><pre>SVC()</pre><b>In a Jupyter environment, please rerun this cell to show the HTML representation or trust the notebook. <br />On GitHub, the HTML representation is unable to render, please try loading this page with nbviewer.org.</b></div><div class=\"sk-container\" hidden><div class=\"sk-item\"><div class=\"sk-estimator sk-toggleable\"><input class=\"sk-toggleable__control sk-hidden--visually\" id=\"sk-estimator-id-20\" type=\"checkbox\" checked><label for=\"sk-estimator-id-20\" class=\"sk-toggleable__label sk-toggleable__label-arrow\">SVC</label><div class=\"sk-toggleable__content\"><pre>SVC()</pre></div></div></div></div></div>"
      ],
      "text/plain": [
       "SVC()"
      ]
     },
     "execution_count": 111,
     "metadata": {},
     "output_type": "execute_result"
    }
   ],
   "source": [
    "svc.fit(x_train,y_train)"
   ]
  },
  {
   "cell_type": "code",
   "execution_count": 112,
   "metadata": {},
   "outputs": [
    {
     "data": {
      "text/plain": [
       "array([0, 1, 1, 0, 1, 0, 1, 0, 1, 0, 1, 1, 1, 1, 0, 0, 1, 0, 0, 1, 1, 0,\n",
       "       1, 1, 1, 0, 1, 0, 0, 0, 0, 1, 1, 1, 1, 0, 0, 0, 0, 1, 1, 0, 1, 1,\n",
       "       1, 1, 0, 1, 1, 0, 0, 0, 1, 1, 1, 0, 1, 0, 0, 1])"
      ]
     },
     "execution_count": 112,
     "metadata": {},
     "output_type": "execute_result"
    }
   ],
   "source": [
    "y_preds = svc.predict(x_test)\n",
    "y_preds"
   ]
  },
  {
   "cell_type": "code",
   "execution_count": 113,
   "metadata": {},
   "outputs": [
    {
     "data": {
      "text/plain": [
       "91.66666666666666"
      ]
     },
     "execution_count": 113,
     "metadata": {},
     "output_type": "execute_result"
    }
   ],
   "source": [
    "accuracy_score(y_test,y_preds)*100"
   ]
  },
  {
   "cell_type": "code",
   "execution_count": 114,
   "metadata": {},
   "outputs": [
    {
     "data": {
      "text/html": [
       "<style>#sk-container-id-21 {color: black;}#sk-container-id-21 pre{padding: 0;}#sk-container-id-21 div.sk-toggleable {background-color: white;}#sk-container-id-21 label.sk-toggleable__label {cursor: pointer;display: block;width: 100%;margin-bottom: 0;padding: 0.3em;box-sizing: border-box;text-align: center;}#sk-container-id-21 label.sk-toggleable__label-arrow:before {content: \"▸\";float: left;margin-right: 0.25em;color: #696969;}#sk-container-id-21 label.sk-toggleable__label-arrow:hover:before {color: black;}#sk-container-id-21 div.sk-estimator:hover label.sk-toggleable__label-arrow:before {color: black;}#sk-container-id-21 div.sk-toggleable__content {max-height: 0;max-width: 0;overflow: hidden;text-align: left;background-color: #f0f8ff;}#sk-container-id-21 div.sk-toggleable__content pre {margin: 0.2em;color: black;border-radius: 0.25em;background-color: #f0f8ff;}#sk-container-id-21 input.sk-toggleable__control:checked~div.sk-toggleable__content {max-height: 200px;max-width: 100%;overflow: auto;}#sk-container-id-21 input.sk-toggleable__control:checked~label.sk-toggleable__label-arrow:before {content: \"▾\";}#sk-container-id-21 div.sk-estimator input.sk-toggleable__control:checked~label.sk-toggleable__label {background-color: #d4ebff;}#sk-container-id-21 div.sk-label input.sk-toggleable__control:checked~label.sk-toggleable__label {background-color: #d4ebff;}#sk-container-id-21 input.sk-hidden--visually {border: 0;clip: rect(1px 1px 1px 1px);clip: rect(1px, 1px, 1px, 1px);height: 1px;margin: -1px;overflow: hidden;padding: 0;position: absolute;width: 1px;}#sk-container-id-21 div.sk-estimator {font-family: monospace;background-color: #f0f8ff;border: 1px dotted black;border-radius: 0.25em;box-sizing: border-box;margin-bottom: 0.5em;}#sk-container-id-21 div.sk-estimator:hover {background-color: #d4ebff;}#sk-container-id-21 div.sk-parallel-item::after {content: \"\";width: 100%;border-bottom: 1px solid gray;flex-grow: 1;}#sk-container-id-21 div.sk-label:hover label.sk-toggleable__label {background-color: #d4ebff;}#sk-container-id-21 div.sk-serial::before {content: \"\";position: absolute;border-left: 1px solid gray;box-sizing: border-box;top: 0;bottom: 0;left: 50%;z-index: 0;}#sk-container-id-21 div.sk-serial {display: flex;flex-direction: column;align-items: center;background-color: white;padding-right: 0.2em;padding-left: 0.2em;position: relative;}#sk-container-id-21 div.sk-item {position: relative;z-index: 1;}#sk-container-id-21 div.sk-parallel {display: flex;align-items: stretch;justify-content: center;background-color: white;position: relative;}#sk-container-id-21 div.sk-item::before, #sk-container-id-21 div.sk-parallel-item::before {content: \"\";position: absolute;border-left: 1px solid gray;box-sizing: border-box;top: 0;bottom: 0;left: 50%;z-index: -1;}#sk-container-id-21 div.sk-parallel-item {display: flex;flex-direction: column;z-index: 1;position: relative;background-color: white;}#sk-container-id-21 div.sk-parallel-item:first-child::after {align-self: flex-end;width: 50%;}#sk-container-id-21 div.sk-parallel-item:last-child::after {align-self: flex-start;width: 50%;}#sk-container-id-21 div.sk-parallel-item:only-child::after {width: 0;}#sk-container-id-21 div.sk-dashed-wrapped {border: 1px dashed gray;margin: 0 0.4em 0.5em 0.4em;box-sizing: border-box;padding-bottom: 0.4em;background-color: white;}#sk-container-id-21 div.sk-label label {font-family: monospace;font-weight: bold;display: inline-block;line-height: 1.2em;}#sk-container-id-21 div.sk-label-container {text-align: center;}#sk-container-id-21 div.sk-container {/* jupyter's `normalize.less` sets `[hidden] { display: none; }` but bootstrap.min.css set `[hidden] { display: none !important; }` so we also need the `!important` here to be able to override the default hidden behavior on the sphinx rendered scikit-learn.org. See: https://github.com/scikit-learn/scikit-learn/issues/21755 */display: inline-block !important;position: relative;}#sk-container-id-21 div.sk-text-repr-fallback {display: none;}</style><div id=\"sk-container-id-21\" class=\"sk-top-container\"><div class=\"sk-text-repr-fallback\"><pre>SVC()</pre><b>In a Jupyter environment, please rerun this cell to show the HTML representation or trust the notebook. <br />On GitHub, the HTML representation is unable to render, please try loading this page with nbviewer.org.</b></div><div class=\"sk-container\" hidden><div class=\"sk-item\"><div class=\"sk-estimator sk-toggleable\"><input class=\"sk-toggleable__control sk-hidden--visually\" id=\"sk-estimator-id-21\" type=\"checkbox\" checked><label for=\"sk-estimator-id-21\" class=\"sk-toggleable__label sk-toggleable__label-arrow\">SVC</label><div class=\"sk-toggleable__content\"><pre>SVC()</pre></div></div></div></div></div>"
      ],
      "text/plain": [
       "SVC()"
      ]
     },
     "execution_count": 114,
     "metadata": {},
     "output_type": "execute_result"
    }
   ],
   "source": [
    "svc"
   ]
  },
  {
   "cell_type": "code",
   "execution_count": 115,
   "metadata": {},
   "outputs": [],
   "source": [
    "import pickle"
   ]
  },
  {
   "cell_type": "code",
   "execution_count": 116,
   "metadata": {},
   "outputs": [],
   "source": [
    "with open('model.pkl','wb') as yy:\n",
    "    pickle.dump(svc,yy)"
   ]
  },
  {
   "cell_type": "code",
   "execution_count": 117,
   "metadata": {},
   "outputs": [],
   "source": [
    "with open('model.pkl','rb') as jj:\n",
    "    model = pickle.load(jj)"
   ]
  },
  {
   "cell_type": "code",
   "execution_count": 118,
   "metadata": {},
   "outputs": [],
   "source": [
    "with open('scaler.pkl','wb') as tt:\n",
    "    pickle.dump(ss,tt)"
   ]
  },
  {
   "cell_type": "code",
   "execution_count": 119,
   "metadata": {},
   "outputs": [
    {
     "data": {
      "text/html": [
       "<style>#sk-container-id-22 {color: black;}#sk-container-id-22 pre{padding: 0;}#sk-container-id-22 div.sk-toggleable {background-color: white;}#sk-container-id-22 label.sk-toggleable__label {cursor: pointer;display: block;width: 100%;margin-bottom: 0;padding: 0.3em;box-sizing: border-box;text-align: center;}#sk-container-id-22 label.sk-toggleable__label-arrow:before {content: \"▸\";float: left;margin-right: 0.25em;color: #696969;}#sk-container-id-22 label.sk-toggleable__label-arrow:hover:before {color: black;}#sk-container-id-22 div.sk-estimator:hover label.sk-toggleable__label-arrow:before {color: black;}#sk-container-id-22 div.sk-toggleable__content {max-height: 0;max-width: 0;overflow: hidden;text-align: left;background-color: #f0f8ff;}#sk-container-id-22 div.sk-toggleable__content pre {margin: 0.2em;color: black;border-radius: 0.25em;background-color: #f0f8ff;}#sk-container-id-22 input.sk-toggleable__control:checked~div.sk-toggleable__content {max-height: 200px;max-width: 100%;overflow: auto;}#sk-container-id-22 input.sk-toggleable__control:checked~label.sk-toggleable__label-arrow:before {content: \"▾\";}#sk-container-id-22 div.sk-estimator input.sk-toggleable__control:checked~label.sk-toggleable__label {background-color: #d4ebff;}#sk-container-id-22 div.sk-label input.sk-toggleable__control:checked~label.sk-toggleable__label {background-color: #d4ebff;}#sk-container-id-22 input.sk-hidden--visually {border: 0;clip: rect(1px 1px 1px 1px);clip: rect(1px, 1px, 1px, 1px);height: 1px;margin: -1px;overflow: hidden;padding: 0;position: absolute;width: 1px;}#sk-container-id-22 div.sk-estimator {font-family: monospace;background-color: #f0f8ff;border: 1px dotted black;border-radius: 0.25em;box-sizing: border-box;margin-bottom: 0.5em;}#sk-container-id-22 div.sk-estimator:hover {background-color: #d4ebff;}#sk-container-id-22 div.sk-parallel-item::after {content: \"\";width: 100%;border-bottom: 1px solid gray;flex-grow: 1;}#sk-container-id-22 div.sk-label:hover label.sk-toggleable__label {background-color: #d4ebff;}#sk-container-id-22 div.sk-serial::before {content: \"\";position: absolute;border-left: 1px solid gray;box-sizing: border-box;top: 0;bottom: 0;left: 50%;z-index: 0;}#sk-container-id-22 div.sk-serial {display: flex;flex-direction: column;align-items: center;background-color: white;padding-right: 0.2em;padding-left: 0.2em;position: relative;}#sk-container-id-22 div.sk-item {position: relative;z-index: 1;}#sk-container-id-22 div.sk-parallel {display: flex;align-items: stretch;justify-content: center;background-color: white;position: relative;}#sk-container-id-22 div.sk-item::before, #sk-container-id-22 div.sk-parallel-item::before {content: \"\";position: absolute;border-left: 1px solid gray;box-sizing: border-box;top: 0;bottom: 0;left: 50%;z-index: -1;}#sk-container-id-22 div.sk-parallel-item {display: flex;flex-direction: column;z-index: 1;position: relative;background-color: white;}#sk-container-id-22 div.sk-parallel-item:first-child::after {align-self: flex-end;width: 50%;}#sk-container-id-22 div.sk-parallel-item:last-child::after {align-self: flex-start;width: 50%;}#sk-container-id-22 div.sk-parallel-item:only-child::after {width: 0;}#sk-container-id-22 div.sk-dashed-wrapped {border: 1px dashed gray;margin: 0 0.4em 0.5em 0.4em;box-sizing: border-box;padding-bottom: 0.4em;background-color: white;}#sk-container-id-22 div.sk-label label {font-family: monospace;font-weight: bold;display: inline-block;line-height: 1.2em;}#sk-container-id-22 div.sk-label-container {text-align: center;}#sk-container-id-22 div.sk-container {/* jupyter's `normalize.less` sets `[hidden] { display: none; }` but bootstrap.min.css set `[hidden] { display: none !important; }` so we also need the `!important` here to be able to override the default hidden behavior on the sphinx rendered scikit-learn.org. See: https://github.com/scikit-learn/scikit-learn/issues/21755 */display: inline-block !important;position: relative;}#sk-container-id-22 div.sk-text-repr-fallback {display: none;}</style><div id=\"sk-container-id-22\" class=\"sk-top-container\"><div class=\"sk-text-repr-fallback\"><pre>StandardScaler()</pre><b>In a Jupyter environment, please rerun this cell to show the HTML representation or trust the notebook. <br />On GitHub, the HTML representation is unable to render, please try loading this page with nbviewer.org.</b></div><div class=\"sk-container\" hidden><div class=\"sk-item\"><div class=\"sk-estimator sk-toggleable\"><input class=\"sk-toggleable__control sk-hidden--visually\" id=\"sk-estimator-id-22\" type=\"checkbox\" checked><label for=\"sk-estimator-id-22\" class=\"sk-toggleable__label sk-toggleable__label-arrow\">StandardScaler</label><div class=\"sk-toggleable__content\"><pre>StandardScaler()</pre></div></div></div></div></div>"
      ],
      "text/plain": [
       "StandardScaler()"
      ]
     },
     "execution_count": 119,
     "metadata": {},
     "output_type": "execute_result"
    }
   ],
   "source": [
    "scaler = pickle.load(open('scaler.pkl','rb'))\n",
    "scaler"
   ]
  },
  {
   "cell_type": "code",
   "execution_count": 120,
   "metadata": {},
   "outputs": [
    {
     "data": {
      "text/html": [
       "<style>#sk-container-id-23 {color: black;}#sk-container-id-23 pre{padding: 0;}#sk-container-id-23 div.sk-toggleable {background-color: white;}#sk-container-id-23 label.sk-toggleable__label {cursor: pointer;display: block;width: 100%;margin-bottom: 0;padding: 0.3em;box-sizing: border-box;text-align: center;}#sk-container-id-23 label.sk-toggleable__label-arrow:before {content: \"▸\";float: left;margin-right: 0.25em;color: #696969;}#sk-container-id-23 label.sk-toggleable__label-arrow:hover:before {color: black;}#sk-container-id-23 div.sk-estimator:hover label.sk-toggleable__label-arrow:before {color: black;}#sk-container-id-23 div.sk-toggleable__content {max-height: 0;max-width: 0;overflow: hidden;text-align: left;background-color: #f0f8ff;}#sk-container-id-23 div.sk-toggleable__content pre {margin: 0.2em;color: black;border-radius: 0.25em;background-color: #f0f8ff;}#sk-container-id-23 input.sk-toggleable__control:checked~div.sk-toggleable__content {max-height: 200px;max-width: 100%;overflow: auto;}#sk-container-id-23 input.sk-toggleable__control:checked~label.sk-toggleable__label-arrow:before {content: \"▾\";}#sk-container-id-23 div.sk-estimator input.sk-toggleable__control:checked~label.sk-toggleable__label {background-color: #d4ebff;}#sk-container-id-23 div.sk-label input.sk-toggleable__control:checked~label.sk-toggleable__label {background-color: #d4ebff;}#sk-container-id-23 input.sk-hidden--visually {border: 0;clip: rect(1px 1px 1px 1px);clip: rect(1px, 1px, 1px, 1px);height: 1px;margin: -1px;overflow: hidden;padding: 0;position: absolute;width: 1px;}#sk-container-id-23 div.sk-estimator {font-family: monospace;background-color: #f0f8ff;border: 1px dotted black;border-radius: 0.25em;box-sizing: border-box;margin-bottom: 0.5em;}#sk-container-id-23 div.sk-estimator:hover {background-color: #d4ebff;}#sk-container-id-23 div.sk-parallel-item::after {content: \"\";width: 100%;border-bottom: 1px solid gray;flex-grow: 1;}#sk-container-id-23 div.sk-label:hover label.sk-toggleable__label {background-color: #d4ebff;}#sk-container-id-23 div.sk-serial::before {content: \"\";position: absolute;border-left: 1px solid gray;box-sizing: border-box;top: 0;bottom: 0;left: 50%;z-index: 0;}#sk-container-id-23 div.sk-serial {display: flex;flex-direction: column;align-items: center;background-color: white;padding-right: 0.2em;padding-left: 0.2em;position: relative;}#sk-container-id-23 div.sk-item {position: relative;z-index: 1;}#sk-container-id-23 div.sk-parallel {display: flex;align-items: stretch;justify-content: center;background-color: white;position: relative;}#sk-container-id-23 div.sk-item::before, #sk-container-id-23 div.sk-parallel-item::before {content: \"\";position: absolute;border-left: 1px solid gray;box-sizing: border-box;top: 0;bottom: 0;left: 50%;z-index: -1;}#sk-container-id-23 div.sk-parallel-item {display: flex;flex-direction: column;z-index: 1;position: relative;background-color: white;}#sk-container-id-23 div.sk-parallel-item:first-child::after {align-self: flex-end;width: 50%;}#sk-container-id-23 div.sk-parallel-item:last-child::after {align-self: flex-start;width: 50%;}#sk-container-id-23 div.sk-parallel-item:only-child::after {width: 0;}#sk-container-id-23 div.sk-dashed-wrapped {border: 1px dashed gray;margin: 0 0.4em 0.5em 0.4em;box-sizing: border-box;padding-bottom: 0.4em;background-color: white;}#sk-container-id-23 div.sk-label label {font-family: monospace;font-weight: bold;display: inline-block;line-height: 1.2em;}#sk-container-id-23 div.sk-label-container {text-align: center;}#sk-container-id-23 div.sk-container {/* jupyter's `normalize.less` sets `[hidden] { display: none; }` but bootstrap.min.css set `[hidden] { display: none !important; }` so we also need the `!important` here to be able to override the default hidden behavior on the sphinx rendered scikit-learn.org. See: https://github.com/scikit-learn/scikit-learn/issues/21755 */display: inline-block !important;position: relative;}#sk-container-id-23 div.sk-text-repr-fallback {display: none;}</style><div id=\"sk-container-id-23\" class=\"sk-top-container\"><div class=\"sk-text-repr-fallback\"><pre>SVC()</pre><b>In a Jupyter environment, please rerun this cell to show the HTML representation or trust the notebook. <br />On GitHub, the HTML representation is unable to render, please try loading this page with nbviewer.org.</b></div><div class=\"sk-container\" hidden><div class=\"sk-item\"><div class=\"sk-estimator sk-toggleable\"><input class=\"sk-toggleable__control sk-hidden--visually\" id=\"sk-estimator-id-23\" type=\"checkbox\" checked><label for=\"sk-estimator-id-23\" class=\"sk-toggleable__label sk-toggleable__label-arrow\">SVC</label><div class=\"sk-toggleable__content\"><pre>SVC()</pre></div></div></div></div></div>"
      ],
      "text/plain": [
       "SVC()"
      ]
     },
     "execution_count": 120,
     "metadata": {},
     "output_type": "execute_result"
    }
   ],
   "source": [
    "model"
   ]
  },
  {
   "cell_type": "code",
   "execution_count": 203,
   "metadata": {},
   "outputs": [
    {
     "data": {
      "text/plain": [
       "array([[ 3.9, 39. , 42. ]])"
      ]
     },
     "execution_count": 203,
     "metadata": {},
     "output_type": "execute_result"
    }
   ],
   "source": [
    "input_data = np.array([[3.9,39,42]]).reshape(1,-1)\n",
    "input_data"
   ]
  },
  {
   "cell_type": "code",
   "execution_count": 204,
   "metadata": {},
   "outputs": [
    {
     "name": "stderr",
     "output_type": "stream",
     "text": [
      "/Users/apple/ml-setup/env/lib/python3.8/site-packages/sklearn/base.py:465: UserWarning: X does not have valid feature names, but StandardScaler was fitted with feature names\n",
      "  warnings.warn(\n"
     ]
    },
    {
     "data": {
      "text/plain": [
       "array([[-3.00222353, -7.64784474, -1.26543373]])"
      ]
     },
     "execution_count": 204,
     "metadata": {},
     "output_type": "execute_result"
    }
   ],
   "source": [
    "scaled_input = scaler.transform(input_data)\n",
    "scaled_input"
   ]
  },
  {
   "cell_type": "code",
   "execution_count": 205,
   "metadata": {},
   "outputs": [
    {
     "data": {
      "text/plain": [
       "array([1])"
      ]
     },
     "execution_count": 205,
     "metadata": {},
     "output_type": "execute_result"
    }
   ],
   "source": [
    "model.predict(scaled_input)"
   ]
  },
  {
   "cell_type": "code",
   "execution_count": null,
   "metadata": {},
   "outputs": [],
   "source": []
  },
  {
   "cell_type": "code",
   "execution_count": null,
   "metadata": {},
   "outputs": [],
   "source": []
  },
  {
   "cell_type": "code",
   "execution_count": null,
   "metadata": {},
   "outputs": [],
   "source": []
  }
 ],
 "metadata": {
  "kernelspec": {
   "display_name": "Python 3",
   "language": "python",
   "name": "python3"
  },
  "language_info": {
   "codemirror_mode": {
    "name": "ipython",
    "version": 3
   },
   "file_extension": ".py",
   "mimetype": "text/x-python",
   "name": "python",
   "nbconvert_exporter": "python",
   "pygments_lexer": "ipython3",
   "version": "3.8.undefined"
  }
 },
 "nbformat": 4,
 "nbformat_minor": 2
}
